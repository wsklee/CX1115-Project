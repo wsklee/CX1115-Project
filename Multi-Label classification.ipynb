{
 "cells": [
  {
   "cell_type": "code",
   "execution_count": 1,
   "id": "signed-driver",
   "metadata": {},
   "outputs": [],
   "source": [
    "import pandas as pd\n",
    "import numpy as np\n",
    "import json\n",
    "import nltk\n",
    "import re\n",
    "import csv\n",
    "import matplotlib.pyplot as plt \n",
    "import seaborn as sns\n",
    "from tqdm import tqdm\n",
    "from sklearn.feature_extraction.text import TfidfVectorizer\n",
    "from sklearn.model_selection import train_test_split\n",
    "\n",
    "%matplotlib inline\n",
    "pd.set_option('display.max_colwidth', 300)"
   ]
  },
  {
   "cell_type": "code",
   "execution_count": 2,
   "id": "alpha-module",
   "metadata": {},
   "outputs": [
    {
     "data": {
      "text/html": [
       "<div>\n",
       "<style scoped>\n",
       "    .dataframe tbody tr th:only-of-type {\n",
       "        vertical-align: middle;\n",
       "    }\n",
       "\n",
       "    .dataframe tbody tr th {\n",
       "        vertical-align: top;\n",
       "    }\n",
       "\n",
       "    .dataframe thead th {\n",
       "        text-align: right;\n",
       "    }\n",
       "</style>\n",
       "<table border=\"1\" class=\"dataframe\">\n",
       "  <thead>\n",
       "    <tr style=\"text-align: right;\">\n",
       "      <th></th>\n",
       "      <th>title</th>\n",
       "      <th>id</th>\n",
       "      <th>genres</th>\n",
       "      <th>keywords</th>\n",
       "    </tr>\n",
       "  </thead>\n",
       "  <tbody>\n",
       "    <tr>\n",
       "      <th>0</th>\n",
       "      <td>Four Rooms</td>\n",
       "      <td>5</td>\n",
       "      <td>['Crime', 'Comedy']</td>\n",
       "      <td>['hotel', \"new year's ev\", 'witch', 'bet', 'hotel room', 'antholog', 'los angeles, california', 'hoodlum', 'woman director']</td>\n",
       "    </tr>\n",
       "    <tr>\n",
       "      <th>1</th>\n",
       "      <td>Judgment Night</td>\n",
       "      <td>6</td>\n",
       "      <td>['Action', 'Thriller', 'Crime']</td>\n",
       "      <td>['chicago, illinoi', 'drug deal', 'escap', 'one night', 'box']</td>\n",
       "    </tr>\n",
       "    <tr>\n",
       "      <th>2</th>\n",
       "      <td>Star Wars</td>\n",
       "      <td>11</td>\n",
       "      <td>['Adventure', 'Action', 'Science Fiction']</td>\n",
       "      <td>['android', 'galaxi', 'death star', 'lightsab', 'jedi', 'rescue miss', 'empir', 'rebellion', 'planet', 'the forc', 'space opera', 'stormtroop', 'totalitarian']</td>\n",
       "    </tr>\n",
       "    <tr>\n",
       "      <th>3</th>\n",
       "      <td>Finding Nemo</td>\n",
       "      <td>12</td>\n",
       "      <td>['Animation', 'Family']</td>\n",
       "      <td>['parent child relationship', 'computer anim', 'anthropomorph', 'underwat', 'shark', 'sea turtl', 'aftercreditssting', 'duringcreditssting', 'protective fath']</td>\n",
       "    </tr>\n",
       "    <tr>\n",
       "      <th>4</th>\n",
       "      <td>Forrest Gump</td>\n",
       "      <td>13</td>\n",
       "      <td>['Comedy', 'Drama', 'Romance']</td>\n",
       "      <td>['vietnam veteran', 'hippi', 'washington d.c.', 'mentally dis', 'based on novel or book', 'parent child relationship', 'vietnam war', 'friendship', 'love', 'family relationship', 'militari', 'wounded soldi', 'false histori', 'tragicomedi']</td>\n",
       "    </tr>\n",
       "  </tbody>\n",
       "</table>\n",
       "</div>"
      ],
      "text/plain": [
       "            title  id                                      genres  \\\n",
       "0      Four Rooms   5                         ['Crime', 'Comedy']   \n",
       "1  Judgment Night   6             ['Action', 'Thriller', 'Crime']   \n",
       "2       Star Wars  11  ['Adventure', 'Action', 'Science Fiction']   \n",
       "3    Finding Nemo  12                     ['Animation', 'Family']   \n",
       "4    Forrest Gump  13              ['Comedy', 'Drama', 'Romance']   \n",
       "\n",
       "                                                                                                                                                                                                                                          keywords  \n",
       "0                                                                                                                     ['hotel', \"new year's ev\", 'witch', 'bet', 'hotel room', 'antholog', 'los angeles, california', 'hoodlum', 'woman director']  \n",
       "1                                                                                                                                                                                   ['chicago, illinoi', 'drug deal', 'escap', 'one night', 'box']  \n",
       "2                                                                                  ['android', 'galaxi', 'death star', 'lightsab', 'jedi', 'rescue miss', 'empir', 'rebellion', 'planet', 'the forc', 'space opera', 'stormtroop', 'totalitarian']  \n",
       "3                                                                                  ['parent child relationship', 'computer anim', 'anthropomorph', 'underwat', 'shark', 'sea turtl', 'aftercreditssting', 'duringcreditssting', 'protective fath']  \n",
       "4  ['vietnam veteran', 'hippi', 'washington d.c.', 'mentally dis', 'based on novel or book', 'parent child relationship', 'vietnam war', 'friendship', 'love', 'family relationship', 'militari', 'wounded soldi', 'false histori', 'tragicomedi']  "
      ]
     },
     "execution_count": 2,
     "metadata": {},
     "output_type": "execute_result"
    }
   ],
   "source": [
    "df= pd.read_csv('occur_cleaned_data.csv', encoding ='utf-8')\n",
    "df.head()"
   ]
  },
  {
   "cell_type": "code",
   "execution_count": 3,
   "id": "adjustable-generic",
   "metadata": {},
   "outputs": [
    {
     "data": {
      "text/plain": [
       "\"['Adventure', 'Action', 'Science Fiction']\""
      ]
     },
     "execution_count": 3,
     "metadata": {},
     "output_type": "execute_result"
    }
   ],
   "source": [
    "df['genres'][2]"
   ]
  },
  {
   "cell_type": "code",
   "execution_count": 10,
   "id": "elder-trace",
   "metadata": {},
   "outputs": [
    {
     "data": {
      "text/plain": [
       "'['"
      ]
     },
     "execution_count": 10,
     "metadata": {},
     "output_type": "execute_result"
    }
   ],
   "source": [
    "df['genres'][2][0]"
   ]
  },
  {
   "cell_type": "code",
   "execution_count": 4,
   "id": "removed-hollow",
   "metadata": {},
   "outputs": [
    {
     "data": {
      "text/html": [
       "<div>\n",
       "<style scoped>\n",
       "    .dataframe tbody tr th:only-of-type {\n",
       "        vertical-align: middle;\n",
       "    }\n",
       "\n",
       "    .dataframe tbody tr th {\n",
       "        vertical-align: top;\n",
       "    }\n",
       "\n",
       "    .dataframe thead th {\n",
       "        text-align: right;\n",
       "    }\n",
       "</style>\n",
       "<table border=\"1\" class=\"dataframe\">\n",
       "  <thead>\n",
       "    <tr style=\"text-align: right;\">\n",
       "      <th></th>\n",
       "      <th>genres</th>\n",
       "      <th>keywords</th>\n",
       "    </tr>\n",
       "  </thead>\n",
       "  <tbody>\n",
       "    <tr>\n",
       "      <th>0</th>\n",
       "      <td>['Crime', 'Comedy']</td>\n",
       "      <td>['hotel', \"new year's ev\", 'witch', 'bet', 'hotel room', 'antholog', 'los angeles, california', 'hoodlum', 'woman director']</td>\n",
       "    </tr>\n",
       "    <tr>\n",
       "      <th>1</th>\n",
       "      <td>['Action', 'Thriller', 'Crime']</td>\n",
       "      <td>['chicago, illinoi', 'drug deal', 'escap', 'one night', 'box']</td>\n",
       "    </tr>\n",
       "    <tr>\n",
       "      <th>2</th>\n",
       "      <td>['Adventure', 'Action', 'Science Fiction']</td>\n",
       "      <td>['android', 'galaxi', 'death star', 'lightsab', 'jedi', 'rescue miss', 'empir', 'rebellion', 'planet', 'the forc', 'space opera', 'stormtroop', 'totalitarian']</td>\n",
       "    </tr>\n",
       "    <tr>\n",
       "      <th>3</th>\n",
       "      <td>['Animation', 'Family']</td>\n",
       "      <td>['parent child relationship', 'computer anim', 'anthropomorph', 'underwat', 'shark', 'sea turtl', 'aftercreditssting', 'duringcreditssting', 'protective fath']</td>\n",
       "    </tr>\n",
       "    <tr>\n",
       "      <th>4</th>\n",
       "      <td>['Comedy', 'Drama', 'Romance']</td>\n",
       "      <td>['vietnam veteran', 'hippi', 'washington d.c.', 'mentally dis', 'based on novel or book', 'parent child relationship', 'vietnam war', 'friendship', 'love', 'family relationship', 'militari', 'wounded soldi', 'false histori', 'tragicomedi']</td>\n",
       "    </tr>\n",
       "  </tbody>\n",
       "</table>\n",
       "</div>"
      ],
      "text/plain": [
       "                                       genres  \\\n",
       "0                         ['Crime', 'Comedy']   \n",
       "1             ['Action', 'Thriller', 'Crime']   \n",
       "2  ['Adventure', 'Action', 'Science Fiction']   \n",
       "3                     ['Animation', 'Family']   \n",
       "4              ['Comedy', 'Drama', 'Romance']   \n",
       "\n",
       "                                                                                                                                                                                                                                          keywords  \n",
       "0                                                                                                                     ['hotel', \"new year's ev\", 'witch', 'bet', 'hotel room', 'antholog', 'los angeles, california', 'hoodlum', 'woman director']  \n",
       "1                                                                                                                                                                                   ['chicago, illinoi', 'drug deal', 'escap', 'one night', 'box']  \n",
       "2                                                                                  ['android', 'galaxi', 'death star', 'lightsab', 'jedi', 'rescue miss', 'empir', 'rebellion', 'planet', 'the forc', 'space opera', 'stormtroop', 'totalitarian']  \n",
       "3                                                                                  ['parent child relationship', 'computer anim', 'anthropomorph', 'underwat', 'shark', 'sea turtl', 'aftercreditssting', 'duringcreditssting', 'protective fath']  \n",
       "4  ['vietnam veteran', 'hippi', 'washington d.c.', 'mentally dis', 'based on novel or book', 'parent child relationship', 'vietnam war', 'friendship', 'love', 'family relationship', 'militari', 'wounded soldi', 'false histori', 'tragicomedi']  "
      ]
     },
     "execution_count": 4,
     "metadata": {},
     "output_type": "execute_result"
    }
   ],
   "source": [
    "processing_data = df[['genres','keywords']]\n",
    "processing_data.head()"
   ]
  },
  {
   "cell_type": "markdown",
   "id": "acceptable-population",
   "metadata": {},
   "source": [
    "## String processing. Genres in csv was stored as string instead of a list\n",
    "\n",
    "Using ast to convert genres from string to list."
   ]
  },
  {
   "cell_type": "code",
   "execution_count": 15,
   "id": "extra-optimum",
   "metadata": {},
   "outputs": [],
   "source": [
    "import ast"
   ]
  },
  {
   "cell_type": "code",
   "execution_count": 21,
   "id": "specific-charm",
   "metadata": {},
   "outputs": [
    {
     "data": {
      "text/plain": [
       "(2932, 2)"
      ]
     },
     "execution_count": 21,
     "metadata": {},
     "output_type": "execute_result"
    }
   ],
   "source": [
    "# find how many rows in data\n",
    "processing_data.shape"
   ]
  },
  {
   "cell_type": "code",
   "execution_count": 16,
   "id": "worthy-cattle",
   "metadata": {},
   "outputs": [
    {
     "name": "stderr",
     "output_type": "stream",
     "text": [
      "C:\\Users\\Wonseok\\anaconda3\\lib\\site-packages\\IPython\\core\\interactiveshell.py:3418: SettingWithCopyWarning: \n",
      "A value is trying to be set on a copy of a slice from a DataFrame\n",
      "\n",
      "See the caveats in the documentation: https://pandas.pydata.org/pandas-docs/stable/user_guide/indexing.html#returning-a-view-versus-a-copy\n",
      "  exec(code_obj, self.user_global_ns, self.user_ns)\n"
     ]
    }
   ],
   "source": [
    "# For loop on all the strings\n",
    "for i in range(2932):\n",
    "    processing_data['genres'][i] = ast.literal_eval(processing_data['genres'][i])"
   ]
  },
  {
   "cell_type": "code",
   "execution_count": 17,
   "id": "public-vector",
   "metadata": {},
   "outputs": [
    {
     "data": {
      "text/html": [
       "<div>\n",
       "<style scoped>\n",
       "    .dataframe tbody tr th:only-of-type {\n",
       "        vertical-align: middle;\n",
       "    }\n",
       "\n",
       "    .dataframe tbody tr th {\n",
       "        vertical-align: top;\n",
       "    }\n",
       "\n",
       "    .dataframe thead th {\n",
       "        text-align: right;\n",
       "    }\n",
       "</style>\n",
       "<table border=\"1\" class=\"dataframe\">\n",
       "  <thead>\n",
       "    <tr style=\"text-align: right;\">\n",
       "      <th></th>\n",
       "      <th>genres</th>\n",
       "      <th>keywords</th>\n",
       "    </tr>\n",
       "  </thead>\n",
       "  <tbody>\n",
       "    <tr>\n",
       "      <th>0</th>\n",
       "      <td>[Crime, Comedy]</td>\n",
       "      <td>['hotel', \"new year's ev\", 'witch', 'bet', 'hotel room', 'antholog', 'los angeles, california', 'hoodlum', 'woman director']</td>\n",
       "    </tr>\n",
       "    <tr>\n",
       "      <th>1</th>\n",
       "      <td>[Action, Thriller, Crime]</td>\n",
       "      <td>['chicago, illinoi', 'drug deal', 'escap', 'one night', 'box']</td>\n",
       "    </tr>\n",
       "    <tr>\n",
       "      <th>2</th>\n",
       "      <td>[Adventure, Action, Science Fiction]</td>\n",
       "      <td>['android', 'galaxi', 'death star', 'lightsab', 'jedi', 'rescue miss', 'empir', 'rebellion', 'planet', 'the forc', 'space opera', 'stormtroop', 'totalitarian']</td>\n",
       "    </tr>\n",
       "    <tr>\n",
       "      <th>3</th>\n",
       "      <td>[Animation, Family]</td>\n",
       "      <td>['parent child relationship', 'computer anim', 'anthropomorph', 'underwat', 'shark', 'sea turtl', 'aftercreditssting', 'duringcreditssting', 'protective fath']</td>\n",
       "    </tr>\n",
       "    <tr>\n",
       "      <th>4</th>\n",
       "      <td>[Comedy, Drama, Romance]</td>\n",
       "      <td>['vietnam veteran', 'hippi', 'washington d.c.', 'mentally dis', 'based on novel or book', 'parent child relationship', 'vietnam war', 'friendship', 'love', 'family relationship', 'militari', 'wounded soldi', 'false histori', 'tragicomedi']</td>\n",
       "    </tr>\n",
       "  </tbody>\n",
       "</table>\n",
       "</div>"
      ],
      "text/plain": [
       "                                 genres  \\\n",
       "0                       [Crime, Comedy]   \n",
       "1             [Action, Thriller, Crime]   \n",
       "2  [Adventure, Action, Science Fiction]   \n",
       "3                   [Animation, Family]   \n",
       "4              [Comedy, Drama, Romance]   \n",
       "\n",
       "                                                                                                                                                                                                                                          keywords  \n",
       "0                                                                                                                     ['hotel', \"new year's ev\", 'witch', 'bet', 'hotel room', 'antholog', 'los angeles, california', 'hoodlum', 'woman director']  \n",
       "1                                                                                                                                                                                   ['chicago, illinoi', 'drug deal', 'escap', 'one night', 'box']  \n",
       "2                                                                                  ['android', 'galaxi', 'death star', 'lightsab', 'jedi', 'rescue miss', 'empir', 'rebellion', 'planet', 'the forc', 'space opera', 'stormtroop', 'totalitarian']  \n",
       "3                                                                                  ['parent child relationship', 'computer anim', 'anthropomorph', 'underwat', 'shark', 'sea turtl', 'aftercreditssting', 'duringcreditssting', 'protective fath']  \n",
       "4  ['vietnam veteran', 'hippi', 'washington d.c.', 'mentally dis', 'based on novel or book', 'parent child relationship', 'vietnam war', 'friendship', 'love', 'family relationship', 'militari', 'wounded soldi', 'false histori', 'tragicomedi']  "
      ]
     },
     "execution_count": 17,
     "metadata": {},
     "output_type": "execute_result"
    }
   ],
   "source": [
    "processing_data.head()"
   ]
  },
  {
   "cell_type": "code",
   "execution_count": 20,
   "id": "seventh-department",
   "metadata": {},
   "outputs": [
    {
     "data": {
      "text/plain": [
       "'Action'"
      ]
     },
     "execution_count": 20,
     "metadata": {},
     "output_type": "execute_result"
    }
   ],
   "source": [
    "processing_data['genres'][2][1]"
   ]
  },
  {
   "cell_type": "markdown",
   "id": "promising-responsibility",
   "metadata": {},
   "source": [
    "## String processing on keywords. Remove whitespaces"
   ]
  },
  {
   "cell_type": "code",
   "execution_count": 22,
   "id": "industrial-philip",
   "metadata": {},
   "outputs": [
    {
     "name": "stderr",
     "output_type": "stream",
     "text": [
      "C:\\Users\\Wonseok\\anaconda3\\lib\\site-packages\\IPython\\core\\interactiveshell.py:3418: SettingWithCopyWarning: \n",
      "A value is trying to be set on a copy of a slice from a DataFrame\n",
      "\n",
      "See the caveats in the documentation: https://pandas.pydata.org/pandas-docs/stable/user_guide/indexing.html#returning-a-view-versus-a-copy\n",
      "  exec(code_obj, self.user_global_ns, self.user_ns)\n"
     ]
    }
   ],
   "source": [
    "# For loop on all the strings\n",
    "for i in range(2932):\n",
    "    processing_data['keywords'][i] = processing_data['keywords'][i].replace(\" \", \"\")"
   ]
  },
  {
   "cell_type": "code",
   "execution_count": 66,
   "id": "regulated-organic",
   "metadata": {},
   "outputs": [
    {
     "data": {
      "text/html": [
       "<div>\n",
       "<style scoped>\n",
       "    .dataframe tbody tr th:only-of-type {\n",
       "        vertical-align: middle;\n",
       "    }\n",
       "\n",
       "    .dataframe tbody tr th {\n",
       "        vertical-align: top;\n",
       "    }\n",
       "\n",
       "    .dataframe thead th {\n",
       "        text-align: right;\n",
       "    }\n",
       "</style>\n",
       "<table border=\"1\" class=\"dataframe\">\n",
       "  <thead>\n",
       "    <tr style=\"text-align: right;\">\n",
       "      <th></th>\n",
       "      <th>genres</th>\n",
       "      <th>keywords</th>\n",
       "    </tr>\n",
       "  </thead>\n",
       "  <tbody>\n",
       "    <tr>\n",
       "      <th>0</th>\n",
       "      <td>[Crime, Comedy]</td>\n",
       "      <td>['hotel',\"newyear'sev\",'witch','bet','hotelroom','antholog','losangeles,california','hoodlum','womandirector']</td>\n",
       "    </tr>\n",
       "    <tr>\n",
       "      <th>1</th>\n",
       "      <td>[Action, Thriller, Crime]</td>\n",
       "      <td>['chicago,illinoi','drugdeal','escap','onenight','box']</td>\n",
       "    </tr>\n",
       "    <tr>\n",
       "      <th>2</th>\n",
       "      <td>[Adventure, Action, Science Fiction]</td>\n",
       "      <td>['android','galaxi','deathstar','lightsab','jedi','rescuemiss','empir','rebellion','planet','theforc','spaceopera','stormtroop','totalitarian']</td>\n",
       "    </tr>\n",
       "    <tr>\n",
       "      <th>3</th>\n",
       "      <td>[Animation, Family]</td>\n",
       "      <td>['parentchildrelationship','computeranim','anthropomorph','underwat','shark','seaturtl','aftercreditssting','duringcreditssting','protectivefath']</td>\n",
       "    </tr>\n",
       "    <tr>\n",
       "      <th>4</th>\n",
       "      <td>[Comedy, Drama, Romance]</td>\n",
       "      <td>['vietnamveteran','hippi','washingtond.c.','mentallydis','basedonnovelorbook','parentchildrelationship','vietnamwar','friendship','love','familyrelationship','militari','woundedsoldi','falsehistori','tragicomedi']</td>\n",
       "    </tr>\n",
       "    <tr>\n",
       "      <th>...</th>\n",
       "      <td>...</td>\n",
       "      <td>...</td>\n",
       "    </tr>\n",
       "    <tr>\n",
       "      <th>95</th>\n",
       "      <td>[Crime, Action, Thriller]</td>\n",
       "      <td>['detect','dystopia','murder','twin','basedongraphicnovel','darkhorsecom','neo-noir']</td>\n",
       "    </tr>\n",
       "    <tr>\n",
       "      <th>96</th>\n",
       "      <td>[Drama, Thriller, Mystery]</td>\n",
       "      <td>['christian','librari','inquisit','monk','poison','secretpassag','basedonnovelorbook','middleag','persecut','mediev','burnedatthestak','murdermysteri','theologicaldeb','14thcenturi']</td>\n",
       "    </tr>\n",
       "    <tr>\n",
       "      <th>97</th>\n",
       "      <td>[Science Fiction, Action, Adventure, Thriller]</td>\n",
       "      <td>['lossoflovedon','android','death','cosmo','spanninggener']</td>\n",
       "    </tr>\n",
       "    <tr>\n",
       "      <th>98</th>\n",
       "      <td>[Adventure, Comedy, Science Fiction]</td>\n",
       "      <td>['railroadrobb','california','indianterritori','sportscar','inventor','locomot','saloon','horsebackrid','timetravel','outlaw','sequel','madscientist','nativeamerican','western','shootout','gunfight','train','cavalri','1950']</td>\n",
       "    </tr>\n",
       "    <tr>\n",
       "      <th>99</th>\n",
       "      <td>[Action, Drama, History, War]</td>\n",
       "      <td>['individu','scotland','inlovewithenemi','revolut','legend','independ','freedom','ideal','battl','tyranni','falsehistori','highland','13thcenturi','scottishhighland']</td>\n",
       "    </tr>\n",
       "  </tbody>\n",
       "</table>\n",
       "<p>100 rows × 2 columns</p>\n",
       "</div>"
      ],
      "text/plain": [
       "                                            genres  \\\n",
       "0                                  [Crime, Comedy]   \n",
       "1                        [Action, Thriller, Crime]   \n",
       "2             [Adventure, Action, Science Fiction]   \n",
       "3                              [Animation, Family]   \n",
       "4                         [Comedy, Drama, Romance]   \n",
       "..                                             ...   \n",
       "95                       [Crime, Action, Thriller]   \n",
       "96                      [Drama, Thriller, Mystery]   \n",
       "97  [Science Fiction, Action, Adventure, Thriller]   \n",
       "98            [Adventure, Comedy, Science Fiction]   \n",
       "99                   [Action, Drama, History, War]   \n",
       "\n",
       "                                                                                                                                                                                                                            keywords  \n",
       "0                                                                                                                     ['hotel',\"newyear'sev\",'witch','bet','hotelroom','antholog','losangeles,california','hoodlum','womandirector']  \n",
       "1                                                                                                                                                                            ['chicago,illinoi','drugdeal','escap','onenight','box']  \n",
       "2                                                                                    ['android','galaxi','deathstar','lightsab','jedi','rescuemiss','empir','rebellion','planet','theforc','spaceopera','stormtroop','totalitarian']  \n",
       "3                                                                                 ['parentchildrelationship','computeranim','anthropomorph','underwat','shark','seaturtl','aftercreditssting','duringcreditssting','protectivefath']  \n",
       "4              ['vietnamveteran','hippi','washingtond.c.','mentallydis','basedonnovelorbook','parentchildrelationship','vietnamwar','friendship','love','familyrelationship','militari','woundedsoldi','falsehistori','tragicomedi']  \n",
       "..                                                                                                                                                                                                                               ...  \n",
       "95                                                                                                                                             ['detect','dystopia','murder','twin','basedongraphicnovel','darkhorsecom','neo-noir']  \n",
       "96                                            ['christian','librari','inquisit','monk','poison','secretpassag','basedonnovelorbook','middleag','persecut','mediev','burnedatthestak','murdermysteri','theologicaldeb','14thcenturi']  \n",
       "97                                                                                                                                                                       ['lossoflovedon','android','death','cosmo','spanninggener']  \n",
       "98  ['railroadrobb','california','indianterritori','sportscar','inventor','locomot','saloon','horsebackrid','timetravel','outlaw','sequel','madscientist','nativeamerican','western','shootout','gunfight','train','cavalri','1950']  \n",
       "99                                                            ['individu','scotland','inlovewithenemi','revolut','legend','independ','freedom','ideal','battl','tyranni','falsehistori','highland','13thcenturi','scottishhighland']  \n",
       "\n",
       "[100 rows x 2 columns]"
      ]
     },
     "execution_count": 66,
     "metadata": {},
     "output_type": "execute_result"
    }
   ],
   "source": [
    "processing_data.head(100)"
   ]
  },
  {
   "cell_type": "markdown",
   "id": "imported-willow",
   "metadata": {},
   "source": [
    "## sanity check on the processed data"
   ]
  },
  {
   "cell_type": "code",
   "execution_count": 25,
   "id": "excess-ghana",
   "metadata": {},
   "outputs": [
    {
     "data": {
      "text/plain": [
       "'Comedy'"
      ]
     },
     "execution_count": 25,
     "metadata": {},
     "output_type": "execute_result"
    }
   ],
   "source": [
    "processing_data['genres'][56][1]"
   ]
  },
  {
   "cell_type": "code",
   "execution_count": 26,
   "id": "hungry-recognition",
   "metadata": {},
   "outputs": [
    {
     "data": {
      "text/plain": [
       "\"['london,england','chocol','factorywork','basedonnovelorbook','parentchildrelationship','candi','overweightchild','grandparentgrandchildrelationship','teacher']\""
      ]
     },
     "execution_count": 26,
     "metadata": {},
     "output_type": "execute_result"
    }
   ],
   "source": [
    "processing_data['keywords'][56]"
   ]
  },
  {
   "cell_type": "code",
   "execution_count": 7,
   "id": "reduced-novelty",
   "metadata": {},
   "outputs": [],
   "source": [
    "#from sklearn.feature_extraction.text import CountVectorizer"
   ]
  },
  {
   "cell_type": "code",
   "execution_count": 8,
   "id": "handed-kennedy",
   "metadata": {},
   "outputs": [],
   "source": [
    "#vectorizer = CountVectorizer()"
   ]
  },
  {
   "cell_type": "markdown",
   "id": "public-direction",
   "metadata": {},
   "source": [
    "# Tf-idf and Count vectorizor\n",
    "\n",
    "### For the vectorizors to work the input should be a string or a text file. Hence we need to concatenate keywords in list into a string and store them. For keywords with 2 or more words, we will add in - to combine them."
   ]
  },
  {
   "cell_type": "code",
   "execution_count": 27,
   "id": "italic-consistency",
   "metadata": {},
   "outputs": [],
   "source": [
    "from sklearn.preprocessing import MultiLabelBinarizer\n",
    "\n",
    "multilabel_binarizer = MultiLabelBinarizer()\n",
    "multilabel_binarizer.fit(processing_data['genres'])\n",
    "\n",
    "# transform target variable\n",
    "y = multilabel_binarizer.transform(processing_data['genres'])"
   ]
  },
  {
   "cell_type": "code",
   "execution_count": 33,
   "id": "alpha-thunder",
   "metadata": {},
   "outputs": [],
   "source": [
    "tfidf_vectorizer = TfidfVectorizer()"
   ]
  },
  {
   "cell_type": "code",
   "execution_count": 35,
   "id": "vulnerable-place",
   "metadata": {},
   "outputs": [],
   "source": [
    "# split dataset into training and validation set\n",
    "xtrain, xval, ytrain, yval = train_test_split(processing_data['keywords'], y, test_size=0.2, random_state=9)"
   ]
  },
  {
   "cell_type": "code",
   "execution_count": 36,
   "id": "drawn-ethernet",
   "metadata": {},
   "outputs": [
    {
     "data": {
      "text/plain": [
       "array([[0, 0, 0, ..., 0, 1, 0],\n",
       "       [0, 1, 0, ..., 0, 0, 0],\n",
       "       [0, 0, 0, ..., 1, 0, 0],\n",
       "       ...,\n",
       "       [0, 0, 0, ..., 1, 0, 0],\n",
       "       [0, 1, 0, ..., 0, 0, 0],\n",
       "       [0, 0, 0, ..., 0, 0, 0]])"
      ]
     },
     "execution_count": 36,
     "metadata": {},
     "output_type": "execute_result"
    }
   ],
   "source": [
    "ytrain"
   ]
  },
  {
   "cell_type": "code",
   "execution_count": 67,
   "id": "covered-picture",
   "metadata": {},
   "outputs": [],
   "source": [
    "# create TF-IDF features\n",
    "xtrain_tfidf = tfidf_vectorizer.fit_transform(xtrain)\n",
    "xval_tfidf = tfidf_vectorizer.transform(xval)"
   ]
  },
  {
   "cell_type": "code",
   "execution_count": 68,
   "id": "engaged-liability",
   "metadata": {},
   "outputs": [],
   "source": [
    "from sklearn.linear_model import LogisticRegression\n",
    "\n",
    "# Binary Relevance\n",
    "from sklearn.multiclass import OneVsRestClassifier\n",
    "\n",
    "# Performance metric\n",
    "from sklearn.metrics import f1_score"
   ]
  },
  {
   "cell_type": "code",
   "execution_count": 69,
   "id": "aggressive-measurement",
   "metadata": {},
   "outputs": [],
   "source": [
    "lr = LogisticRegression()\n",
    "clf = OneVsRestClassifier(lr)"
   ]
  },
  {
   "cell_type": "code",
   "execution_count": 70,
   "id": "scientific-glory",
   "metadata": {},
   "outputs": [
    {
     "data": {
      "text/plain": [
       "OneVsRestClassifier(estimator=LogisticRegression())"
      ]
     },
     "execution_count": 70,
     "metadata": {},
     "output_type": "execute_result"
    }
   ],
   "source": [
    "# fit model on train data\n",
    "clf.fit(xtrain_tfidf, ytrain)"
   ]
  },
  {
   "cell_type": "code",
   "execution_count": 71,
   "id": "liked-holly",
   "metadata": {},
   "outputs": [],
   "source": [
    "# make predictions for validation set\n",
    "y_pred = clf.predict(xval_tfidf)"
   ]
  },
  {
   "cell_type": "code",
   "execution_count": 72,
   "id": "corrected-acrobat",
   "metadata": {},
   "outputs": [
    {
     "data": {
      "text/plain": [
       "array([0, 0, 0, 0, 0, 0, 0, 0, 0, 0, 0, 0, 0, 0, 0, 0, 1, 0, 0])"
      ]
     },
     "execution_count": 72,
     "metadata": {},
     "output_type": "execute_result"
    }
   ],
   "source": [
    "y_pred[100]"
   ]
  },
  {
   "cell_type": "code",
   "execution_count": 73,
   "id": "judicial-caution",
   "metadata": {},
   "outputs": [
    {
     "data": {
      "text/plain": [
       "('Drama',)"
      ]
     },
     "execution_count": 73,
     "metadata": {},
     "output_type": "execute_result"
    }
   ],
   "source": [
    "multilabel_binarizer.inverse_transform(y_pred)[0]"
   ]
  },
  {
   "cell_type": "code",
   "execution_count": 74,
   "id": "composite-inclusion",
   "metadata": {},
   "outputs": [
    {
     "data": {
      "text/plain": [
       "0.4022988505747126"
      ]
     },
     "execution_count": 74,
     "metadata": {},
     "output_type": "execute_result"
    }
   ],
   "source": [
    "# evaluate performance\n",
    "f1_score(yval, y_pred, average=\"micro\")"
   ]
  },
  {
   "cell_type": "markdown",
   "id": "magnetic-primary",
   "metadata": {},
   "source": [
    "## Advanced: Create inference function"
   ]
  },
  {
   "cell_type": "code",
   "execution_count": 75,
   "id": "demanding-equity",
   "metadata": {},
   "outputs": [],
   "source": [
    "def infer_tags(q):\n",
    "    #q = clean_text(q)\n",
    "    #q = remove_stopwords(q)\n",
    "    q_vec = tfidf_vectorizer.transform([q])\n",
    "    q_pred = clf.predict(q_vec)\n",
    "    return multilabel_binarizer.inverse_transform(q_pred)"
   ]
  },
  {
   "cell_type": "code",
   "execution_count": 76,
   "id": "inside-perfume",
   "metadata": {
    "scrolled": true
   },
   "outputs": [
    {
     "name": "stdout",
     "output_type": "stream",
     "text": [
      "('Drama',)\n",
      "('Drama',)\n",
      "('Drama',)\n",
      "('Drama',)\n",
      "('Crime', 'Drama', 'Thriller')\n",
      "('Horror',)\n",
      "()\n",
      "('Crime', 'Mystery', 'Thriller')\n",
      "('Romance',)\n",
      "('Drama',)\n",
      "('Romance',)\n",
      "()\n",
      "('Action', 'Adventure', 'Science Fiction')\n",
      "('Comedy', 'Drama')\n",
      "('Drama',)\n",
      "()\n",
      "()\n",
      "('Thriller',)\n",
      "('Comedy', 'Drama')\n",
      "()\n",
      "('Action', 'Science Fiction')\n",
      "()\n",
      "('Drama',)\n",
      "('Horror', 'Thriller')\n",
      "('Drama',)\n",
      "()\n",
      "()\n",
      "()\n",
      "()\n",
      "()\n",
      "()\n",
      "()\n",
      "('Drama',)\n",
      "('Drama',)\n",
      "('Action',)\n",
      "('Comedy', 'Drama')\n",
      "()\n",
      "()\n",
      "('Drama',)\n",
      "('Comedy', 'Drama')\n",
      "('Crime',)\n",
      "('Action',)\n",
      "()\n",
      "('Comedy', 'Family')\n",
      "('Comedy', 'Drama')\n",
      "('Drama',)\n",
      "('Action', 'Science Fiction', 'Thriller')\n",
      "()\n",
      "('Action', 'Crime', 'Thriller')\n",
      "()\n",
      "('Drama', 'War')\n",
      "('Crime', 'Drama', 'Thriller')\n",
      "('Drama',)\n",
      "('Comedy',)\n",
      "('Drama',)\n",
      "()\n",
      "()\n",
      "('Comedy',)\n",
      "('Drama',)\n",
      "('Comedy',)\n",
      "()\n",
      "('Thriller',)\n",
      "()\n",
      "()\n",
      "()\n",
      "('Drama',)\n",
      "('Comedy', 'Drama')\n",
      "()\n",
      "()\n",
      "('Drama',)\n",
      "('Comedy', 'Romance')\n",
      "('Drama',)\n",
      "()\n",
      "('Adventure', 'Comedy')\n",
      "('Comedy', 'Drama')\n",
      "('Comedy',)\n",
      "('Action', 'Adventure', 'Science Fiction')\n",
      "('Action', 'Science Fiction')\n",
      "('Comedy', 'Drama')\n",
      "()\n",
      "()\n",
      "('Comedy', 'Drama')\n",
      "('Crime', 'Thriller')\n",
      "('Comedy', 'Drama')\n",
      "('Comedy',)\n",
      "('Crime', 'Drama', 'Thriller')\n",
      "('Drama',)\n",
      "('Drama',)\n",
      "('Drama',)\n",
      "('Drama',)\n",
      "('Comedy',)\n",
      "()\n",
      "()\n",
      "()\n",
      "()\n",
      "()\n",
      "('Action', 'Crime', 'Thriller')\n",
      "()\n",
      "()\n",
      "('Thriller',)\n",
      "('Thriller',)\n",
      "()\n",
      "('Action',)\n",
      "('Action', 'Thriller')\n",
      "('Drama', 'Romance')\n",
      "('Comedy',)\n",
      "()\n",
      "('Comedy',)\n",
      "('Drama',)\n",
      "('Drama',)\n",
      "()\n",
      "()\n",
      "()\n",
      "()\n",
      "('Drama',)\n",
      "('Drama',)\n",
      "()\n",
      "('Comedy',)\n",
      "()\n",
      "('Action',)\n"
     ]
    }
   ],
   "source": [
    "#for i in range(120):\n",
    "    #print(multilabel_binarizer.inverse_transform(y_pred)[i])"
   ]
  },
  {
   "cell_type": "markdown",
   "id": "broke-tribune",
   "metadata": {},
   "source": [
    "## Trying out other classifiers"
   ]
  },
  {
   "cell_type": "code",
   "execution_count": 79,
   "id": "rental-restoration",
   "metadata": {},
   "outputs": [],
   "source": [
    " # Import Decision Tree Classifier model from Scikit-Learn\n",
    "from sklearn.tree import DecisionTreeClassifier\n",
    "\n",
    "# Create a Decision Tree Classifier object\n",
    "dectree = DecisionTreeClassifier(max_depth = 2)"
   ]
  },
  {
   "cell_type": "code",
   "execution_count": 80,
   "id": "controlling-asset",
   "metadata": {},
   "outputs": [],
   "source": [
    "clf = OneVsRestClassifier(dectree)"
   ]
  },
  {
   "cell_type": "code",
   "execution_count": 81,
   "id": "offensive-coffee",
   "metadata": {},
   "outputs": [
    {
     "data": {
      "text/plain": [
       "OneVsRestClassifier(estimator=DecisionTreeClassifier(max_depth=2))"
      ]
     },
     "execution_count": 81,
     "metadata": {},
     "output_type": "execute_result"
    }
   ],
   "source": [
    "# fit model on train data\n",
    "clf.fit(xtrain_tfidf, ytrain)"
   ]
  },
  {
   "cell_type": "code",
   "execution_count": 82,
   "id": "hidden-strategy",
   "metadata": {},
   "outputs": [],
   "source": [
    "# make predictions for validation set\n",
    "y_pred = clf.predict(xval_tfidf)"
   ]
  },
  {
   "cell_type": "code",
   "execution_count": 85,
   "id": "sized-desktop",
   "metadata": {},
   "outputs": [
    {
     "data": {
      "text/plain": [
       "array([0, 0, 0, 0, 0, 0, 0, 0, 0, 0, 0, 0, 0, 0, 0, 0, 0, 0, 0])"
      ]
     },
     "execution_count": 85,
     "metadata": {},
     "output_type": "execute_result"
    }
   ],
   "source": [
    "y_pred[100]"
   ]
  },
  {
   "cell_type": "code",
   "execution_count": 86,
   "id": "intimate-bedroom",
   "metadata": {},
   "outputs": [
    {
     "data": {
      "text/plain": [
       "()"
      ]
     },
     "execution_count": 86,
     "metadata": {},
     "output_type": "execute_result"
    }
   ],
   "source": [
    "multilabel_binarizer.inverse_transform(y_pred)[100]"
   ]
  },
  {
   "cell_type": "code",
   "execution_count": 87,
   "id": "opening-merit",
   "metadata": {},
   "outputs": [
    {
     "data": {
      "text/plain": [
       "0.2205240174672489"
      ]
     },
     "execution_count": 87,
     "metadata": {},
     "output_type": "execute_result"
    }
   ],
   "source": [
    "# evaluate performance\n",
    "f1_score(yval, y_pred, average=\"micro\")"
   ]
  },
  {
   "cell_type": "code",
   "execution_count": 88,
   "id": "molecular-defeat",
   "metadata": {},
   "outputs": [
    {
     "name": "stdout",
     "output_type": "stream",
     "text": [
      "('Drama',)\n",
      "('Thriller',)\n",
      "()\n",
      "()\n",
      "('Thriller',)\n",
      "('Horror',)\n",
      "()\n",
      "('Thriller',)\n",
      "('Romance',)\n",
      "('Mystery', 'Thriller')\n",
      "('Romance',)\n",
      "('Mystery',)\n",
      "('Adventure', 'Science Fiction')\n",
      "()\n",
      "('Drama',)\n",
      "()\n",
      "('Mystery',)\n",
      "('Crime',)\n",
      "()\n",
      "()\n",
      "('Science Fiction',)\n",
      "()\n",
      "()\n",
      "()\n",
      "()\n",
      "()\n",
      "()\n",
      "()\n",
      "()\n",
      "()\n",
      "()\n",
      "()\n",
      "()\n",
      "()\n",
      "()\n",
      "()\n",
      "('Drama', 'Thriller')\n",
      "()\n",
      "()\n",
      "()\n",
      "('Mystery', 'Thriller')\n",
      "()\n",
      "()\n",
      "()\n",
      "()\n",
      "()\n",
      "('Adventure',)\n",
      "()\n",
      "()\n",
      "('Thriller',)\n",
      "('War',)\n",
      "('Crime', 'Thriller')\n",
      "('Drama',)\n",
      "()\n",
      "()\n",
      "()\n",
      "()\n",
      "()\n",
      "()\n",
      "('Romance',)\n",
      "()\n",
      "()\n",
      "()\n",
      "()\n",
      "('Thriller',)\n",
      "('Thriller',)\n",
      "()\n",
      "()\n",
      "()\n",
      "()\n",
      "('Romance',)\n",
      "('Drama', 'History')\n",
      "()\n",
      "('Family',)\n",
      "()\n",
      "()\n",
      "('Action', 'Adventure')\n",
      "()\n",
      "()\n",
      "()\n",
      "()\n",
      "()\n",
      "('Mystery', 'Thriller')\n",
      "('Romance',)\n",
      "()\n",
      "('Crime', 'Thriller')\n",
      "()\n",
      "()\n",
      "('War',)\n",
      "()\n",
      "('Comedy',)\n",
      "()\n",
      "()\n",
      "()\n",
      "('Comedy',)\n",
      "()\n",
      "()\n",
      "()\n",
      "()\n",
      "()\n",
      "()\n",
      "()\n",
      "()\n",
      "()\n",
      "()\n",
      "('Animation', 'Comedy', 'Family')\n",
      "()\n",
      "('Comedy',)\n",
      "()\n",
      "('Drama',)\n",
      "()\n",
      "()\n",
      "('Animation',)\n",
      "()\n",
      "('Drama',)\n",
      "()\n",
      "()\n",
      "()\n",
      "('Fantasy',)\n",
      "('Adventure', 'Comedy', 'Mystery', 'Thriller')\n"
     ]
    }
   ],
   "source": [
    "for i in range(120):\n",
    "    print(multilabel_binarizer.inverse_transform(y_pred)[i])"
   ]
  },
  {
   "cell_type": "markdown",
   "id": "threaded-causing",
   "metadata": {},
   "source": [
    "## other classifiers\n",
    "\n",
    "Havent try\n",
    "Random Forest\n",
    "SVN\n",
    "Naive Bayes\n",
    "\n",
    "Tried and gonna use\n",
    "GRboost\n",
    "DecisionTree\n",
    "\n",
    "\n"
   ]
  },
  {
   "cell_type": "code",
   "execution_count": 117,
   "id": "plain-percentage",
   "metadata": {},
   "outputs": [],
   "source": [
    "# GRboost\n",
    "from sklearn.ensemble import GradientBoostingClassifier\n",
    "GRboost = GradientBoostingClassifier(n_estimators=100, learning_rate=1.0,max_depth=1, random_state=0)"
   ]
  },
  {
   "cell_type": "code",
   "execution_count": 118,
   "id": "downtown-manufacturer",
   "metadata": {},
   "outputs": [],
   "source": [
    "clf = OneVsRestClassifier(GRboost)"
   ]
  },
  {
   "cell_type": "code",
   "execution_count": 119,
   "id": "thrown-strain",
   "metadata": {},
   "outputs": [
    {
     "data": {
      "text/plain": [
       "OneVsRestClassifier(estimator=GradientBoostingClassifier(learning_rate=1.0,\n",
       "                                                         max_depth=1,\n",
       "                                                         random_state=0))"
      ]
     },
     "execution_count": 119,
     "metadata": {},
     "output_type": "execute_result"
    }
   ],
   "source": [
    "# fit model on train data\n",
    "clf.fit(xtrain_tfidf, ytrain)"
   ]
  },
  {
   "cell_type": "code",
   "execution_count": 120,
   "id": "desirable-pakistan",
   "metadata": {},
   "outputs": [],
   "source": [
    "# make predictions for validation set\n",
    "y_pred = clf.predict(xval_tfidf)"
   ]
  },
  {
   "cell_type": "code",
   "execution_count": 121,
   "id": "reserved-authentication",
   "metadata": {},
   "outputs": [
    {
     "data": {
      "text/plain": [
       "0.4865076261243644"
      ]
     },
     "execution_count": 121,
     "metadata": {},
     "output_type": "execute_result"
    }
   ],
   "source": [
    "# evaluate performance\n",
    "f1_score(yval, y_pred, average=\"micro\")"
   ]
  },
  {
   "cell_type": "code",
   "execution_count": 122,
   "id": "boxed-pride",
   "metadata": {},
   "outputs": [
    {
     "name": "stdout",
     "output_type": "stream",
     "text": [
      "('Drama',)\n",
      "('Drama',)\n",
      "()\n",
      "('Adventure',)\n",
      "('Crime', 'Thriller')\n",
      "('Horror',)\n",
      "('Comedy', 'Fantasy')\n",
      "('Action', 'Crime', 'Drama', 'Mystery', 'Thriller')\n",
      "('Romance',)\n",
      "('Crime', 'Mystery')\n",
      "('Romance',)\n",
      "('Action', 'Mystery', 'Thriller')\n",
      "('Action', 'Adventure', 'Science Fiction')\n",
      "()\n",
      "('Drama',)\n",
      "()\n",
      "('Comedy', 'Mystery')\n",
      "('Drama', 'Fantasy', 'Thriller')\n",
      "('Comedy', 'Crime')\n",
      "()\n",
      "('Action', 'Animation', 'Science Fiction')\n",
      "()\n",
      "()\n",
      "()\n",
      "('Drama', 'Romance')\n",
      "('Drama',)\n",
      "()\n",
      "()\n",
      "('Action', 'Adventure', 'Romance')\n",
      "('Animation', 'Drama')\n",
      "('Horror',)\n",
      "()\n",
      "('Comedy', 'Crime')\n",
      "('Thriller',)\n",
      "('Action', 'Crime', 'Thriller')\n",
      "('Drama',)\n",
      "('Drama', 'History', 'Thriller')\n",
      "()\n",
      "('Adventure',)\n",
      "('Drama',)\n",
      "('Crime', 'Mystery', 'Thriller')\n",
      "('Thriller',)\n",
      "()\n",
      "()\n",
      "('Comedy', 'Drama')\n",
      "('Drama',)\n",
      "('Action', 'Adventure', 'Science Fiction', 'Thriller')\n",
      "('Action', 'Crime')\n",
      "('Crime', 'Drama', 'Thriller')\n",
      "('Drama',)\n",
      "('Action', 'Romance')\n",
      "('Crime', 'Drama', 'Thriller')\n",
      "('Comedy', 'Drama', 'Mystery')\n",
      "('Comedy',)\n",
      "('Drama',)\n",
      "('Action',)\n",
      "('Action', 'Adventure', 'Drama')\n",
      "('Comedy',)\n",
      "('Crime', 'Thriller')\n",
      "('Comedy', 'Romance')\n",
      "()\n",
      "('Action', 'Crime', 'Thriller')\n",
      "()\n",
      "('Drama',)\n",
      "('Adventure', 'Thriller')\n",
      "('Comedy', 'Drama', 'Thriller')\n",
      "('Comedy',)\n",
      "()\n",
      "('Action', 'Comedy', 'Drama')\n",
      "('Drama',)\n",
      "('Comedy', 'Romance')\n",
      "('Drama', 'History')\n",
      "('Adventure',)\n",
      "('Action', 'Adventure', 'Family')\n",
      "()\n",
      "('Comedy',)\n",
      "('Action', 'Adventure', 'Science Fiction')\n",
      "('Animation',)\n",
      "('Crime', 'Drama')\n",
      "('Action', 'Comedy')\n",
      "('Crime',)\n",
      "('Comedy', 'Drama')\n",
      "('Mystery', 'Thriller')\n",
      "('Romance',)\n",
      "()\n",
      "('Crime', 'Drama', 'Thriller')\n",
      "('Comedy', 'Drama')\n",
      "('Romance',)\n",
      "('Drama',)\n",
      "('Drama',)\n",
      "('Comedy', 'Drama', 'Romance')\n",
      "('Action', 'Thriller')\n",
      "('Thriller',)\n",
      "()\n",
      "('Comedy', 'Romance')\n",
      "('Drama',)\n",
      "('Action', 'Comedy', 'Thriller')\n",
      "('Action',)\n",
      "('Fantasy', 'Thriller')\n",
      "('Adventure',)\n",
      "('Drama', 'Romance', 'Thriller')\n",
      "('Comedy',)\n",
      "('Action', 'Adventure', 'Comedy', 'Thriller')\n",
      "()\n",
      "('Comedy', 'Drama')\n",
      "('Adventure', 'Animation', 'Comedy', 'Family')\n",
      "('Action', 'Western')\n",
      "('Adventure', 'Comedy')\n",
      "('Drama',)\n",
      "('Drama',)\n",
      "()\n",
      "()\n",
      "('Adventure', 'Animation', 'Family')\n",
      "('Crime',)\n",
      "('Crime', 'Drama', 'Thriller')\n",
      "('Action', 'Comedy', 'Crime')\n",
      "('Action', 'Adventure', 'Western')\n",
      "('Action', 'Comedy')\n",
      "('Fantasy',)\n",
      "('Action', 'Adventure', 'Comedy', 'Mystery', 'Romance', 'Science Fiction')\n"
     ]
    }
   ],
   "source": [
    "for i in range(120):\n",
    "    print(multilabel_binarizer.inverse_transform(y_pred)[i])"
   ]
  },
  {
   "cell_type": "markdown",
   "id": "compact-inspiration",
   "metadata": {},
   "source": [
    "## Review\n",
    "\n",
    "The csv file given with keywords and genres are in Strings not lists like wtf\n",
    "Need to convert genre into a list\n",
    "https://stackoverflow.com/questions/1894269/how-to-convert-string-representation-of-list-to-a-list"
   ]
  }
 ],
 "metadata": {
  "kernelspec": {
   "display_name": "Python 3",
   "language": "python",
   "name": "python3"
  },
  "language_info": {
   "codemirror_mode": {
    "name": "ipython",
    "version": 3
   },
   "file_extension": ".py",
   "mimetype": "text/x-python",
   "name": "python",
   "nbconvert_exporter": "python",
   "pygments_lexer": "ipython3",
   "version": "3.8.5"
  }
 },
 "nbformat": 4,
 "nbformat_minor": 5
}
